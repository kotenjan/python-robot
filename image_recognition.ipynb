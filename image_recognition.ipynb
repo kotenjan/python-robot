{
 "cells": [
  {
   "cell_type": "code",
   "execution_count": 11,
   "metadata": {},
   "outputs": [],
   "source": [
    "from PIL import Image\n",
    "from sklearn.cluster import KMeans\n",
    "from matplotlib import pyplot as plt\n",
    "import cv2\n",
    "import json\n",
    "import numpy as np\n",
    "\n",
    "\n",
    "def create_kMeans_hsv_mask(img_arr):\n",
    "    img_arr = img_arr[:, [1]]\n",
    "    kmeans = KMeans(n_clusters = 2, random_state = 1).fit(img_arr)\n",
    "    \n",
    "    color_args = np.array(kmeans.labels_).astype(bool)\n",
    "    \n",
    "    if np.sum(color_args == 0) < np.sum(color_args == 1):\n",
    "        color_args = np.invert(color_args)\n",
    "    \n",
    "    colors = np.array([0, 255]).astype(np.uint8)\n",
    "    \n",
    "    return colors[color_args.astype(np.uint8)]\n",
    "\n",
    "def segment_objects(img):\n",
    "    img_arr = np.array(img)\n",
    "    x, y, z = img_arr.shape\n",
    "    img_arr_flat = img_arr.reshape((x*y, z))\n",
    "    mask = create_kMeans_hsv_mask(img_arr_flat)\n",
    "\n",
    "    return mask.reshape((x, y))\n",
    "\n",
    "def find_contours(img_bin, min_area=0, max_area=1000000, fill=True, external=True):\n",
    "    mode = cv2.RETR_EXTERNAL\n",
    "    if not external:\n",
    "        mode = cv2.RETR_LIST\n",
    "    contours, _  = cv2.findContours(img_bin, mode, cv2.CHAIN_APPROX_SIMPLE)\n",
    "    contours =  [c for c in contours if cv2.contourArea(c) > min_area and cv2.contourArea(c) < max_area]\n",
    "    thick = cv2.FILLED\n",
    "    if not fill: thick = 2\n",
    "    contour_drawn = cv2.drawContours(np.zeros(img_bin.shape, dtype=np.uint8), contours, -1, color=(255, 255, 255), thickness=thick)\n",
    "    return contour_drawn, len(contours), contours  \n",
    "\n",
    "def get_centers(contours):\n",
    "    \n",
    "    contour_centers = list()\n",
    "    \n",
    "    for contour in contours:\n",
    "        M = cv2.moments(contour)\n",
    "        cX = int(M['m10'] / M['m00'])\n",
    "        cY = int(M['m01'] / M['m00'])\n",
    "        contour_centers.append((cX, cY))\n",
    "    \n",
    "    contour_centers.sort()\n",
    "\n",
    "    return contour_centers"
   ]
  },
  {
   "cell_type": "code",
   "execution_count": 12,
   "metadata": {},
   "outputs": [],
   "source": [
    "with open('image_5_RGB.json', 'r') as infile:\n",
    "    img = json.load(infile)\n",
    "width = img[1]\n",
    "height = img[2]\n",
    "image = np.array(img[0], dtype=np.uint8).reshape((height, width, 3))\n",
    "image = cv2.cvtColor(image, cv2.COLOR_RGB2HSV)\n",
    "mask = segment_objects(image)\n",
    "cont_img, cont_count, cont_arr = find_contours(mask, min_area=1000)\n",
    "centers = get_centers(cont_arr)"
   ]
  },
  {
   "cell_type": "code",
   "execution_count": 13,
   "metadata": {},
   "outputs": [
    {
     "data": {
      "text/plain": [
       "<matplotlib.image.AxesImage at 0x7efcecade2e0>"
      ]
     },
     "execution_count": 13,
     "metadata": {},
     "output_type": "execute_result"
    },
    {
     "data": {
      "image/png": "[encoded data removed]",
      "text/plain": [
       "<Figure size 432x288 with 1 Axes>"
      ]
     },
     "metadata": {
      "needs_background": "light"
     },
     "output_type": "display_data"
    }
   ],
   "source": [
    "plt.imshow(cont_img)"
   ]
  },
  {
   "cell_type": "code",
   "execution_count": 14,
   "metadata": {},
   "outputs": [
    {
     "data": {
      "text/plain": [
       "[(140, 321), (271, 160), (422, 339), (563, 215)]"
      ]
     },
     "execution_count": 14,
     "metadata": {},
     "output_type": "execute_result"
    }
   ],
   "source": [
    "centers"
   ]
  },
  {
   "cell_type": "code",
   "execution_count": null,
   "metadata": {},
   "outputs": [],
   "source": []
  }
 ],
 "metadata": {
  "interpreter": {
   "hash": "949777d72b0d2535278d3dc13498b2535136f6dfe0678499012e853ee9abcab1"
  },
  "kernelspec": {
   "display_name": "Python 3.8.12 64-bit",
   "language": "python",
   "name": "python3"
  },
  "language_info": {
   "codemirror_mode": {
    "name": "ipython",
    "version": 3
   },
   "file_extension": ".py",
   "mimetype": "text/x-python",
   "name": "python",
   "nbconvert_exporter": "python",
   "pygments_lexer": "ipython3",
   "version": "3.8.12"
  },
  "orig_nbformat": 4
 },
 "nbformat": 4,
 "nbformat_minor": 2
}
